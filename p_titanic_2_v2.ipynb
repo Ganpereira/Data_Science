{
 "cells": [
  {
   "cell_type": "markdown",
   "metadata": {},
   "source": [
    "# Análise de amostra de dados do Titanic"
   ]
  },
  {
   "cell_type": "markdown",
   "metadata": {},
   "source": [
    "A ideia deste projeto é analisar os dados (amostrais) do Titanic, visando identificar padrões das pessoas sobreviventes. Para isso responderemos as perguntas abaixo:"
   ]
  },
  {
   "cell_type": "markdown",
   "metadata": {},
   "source": [
    "A quantidade de passageiros por Classe?\n",
    "A quantidade de passageiros da amostra sobreviveram?\n",
    "A quantidade de passageiros separados por Sexo?\n",
    "Se há correlação entre o Sexo dos passageiros e a sobrevivência?\n",
    "Se há correlação entre os passageiros que sobreviveram e a Classe?\n",
    "Se existem outras correlações?\n",
    "\n"
   ]
  },
  {
   "cell_type": "code",
   "execution_count": 2,
   "metadata": {},
   "outputs": [
    {
     "data": {
      "text/html": [
       "<div>\n",
       "<style scoped>\n",
       "    .dataframe tbody tr th:only-of-type {\n",
       "        vertical-align: middle;\n",
       "    }\n",
       "\n",
       "    .dataframe tbody tr th {\n",
       "        vertical-align: top;\n",
       "    }\n",
       "\n",
       "    .dataframe thead th {\n",
       "        text-align: right;\n",
       "    }\n",
       "</style>\n",
       "<table border=\"1\" class=\"dataframe\">\n",
       "  <thead>\n",
       "    <tr style=\"text-align: right;\">\n",
       "      <th></th>\n",
       "      <th>PassengerId</th>\n",
       "      <th>Survived</th>\n",
       "      <th>Pclass</th>\n",
       "      <th>Name</th>\n",
       "      <th>Sex</th>\n",
       "      <th>Age</th>\n",
       "      <th>SibSp</th>\n",
       "      <th>Parch</th>\n",
       "      <th>Ticket</th>\n",
       "      <th>Fare</th>\n",
       "      <th>Cabin</th>\n",
       "      <th>Embarked</th>\n",
       "    </tr>\n",
       "  </thead>\n",
       "  <tbody>\n",
       "    <tr>\n",
       "      <th>0</th>\n",
       "      <td>1</td>\n",
       "      <td>0</td>\n",
       "      <td>3</td>\n",
       "      <td>Braund, Mr. Owen Harris</td>\n",
       "      <td>male</td>\n",
       "      <td>22.0</td>\n",
       "      <td>1</td>\n",
       "      <td>0</td>\n",
       "      <td>A/5 21171</td>\n",
       "      <td>7.2500</td>\n",
       "      <td>NaN</td>\n",
       "      <td>S</td>\n",
       "    </tr>\n",
       "    <tr>\n",
       "      <th>1</th>\n",
       "      <td>2</td>\n",
       "      <td>1</td>\n",
       "      <td>1</td>\n",
       "      <td>Cumings, Mrs. John Bradley (Florence Briggs Th...</td>\n",
       "      <td>female</td>\n",
       "      <td>38.0</td>\n",
       "      <td>1</td>\n",
       "      <td>0</td>\n",
       "      <td>PC 17599</td>\n",
       "      <td>71.2833</td>\n",
       "      <td>C85</td>\n",
       "      <td>C</td>\n",
       "    </tr>\n",
       "    <tr>\n",
       "      <th>2</th>\n",
       "      <td>3</td>\n",
       "      <td>1</td>\n",
       "      <td>3</td>\n",
       "      <td>Heikkinen, Miss. Laina</td>\n",
       "      <td>female</td>\n",
       "      <td>26.0</td>\n",
       "      <td>0</td>\n",
       "      <td>0</td>\n",
       "      <td>STON/O2. 3101282</td>\n",
       "      <td>7.9250</td>\n",
       "      <td>NaN</td>\n",
       "      <td>S</td>\n",
       "    </tr>\n",
       "    <tr>\n",
       "      <th>3</th>\n",
       "      <td>4</td>\n",
       "      <td>1</td>\n",
       "      <td>1</td>\n",
       "      <td>Futrelle, Mrs. Jacques Heath (Lily May Peel)</td>\n",
       "      <td>female</td>\n",
       "      <td>35.0</td>\n",
       "      <td>1</td>\n",
       "      <td>0</td>\n",
       "      <td>113803</td>\n",
       "      <td>53.1000</td>\n",
       "      <td>C123</td>\n",
       "      <td>S</td>\n",
       "    </tr>\n",
       "    <tr>\n",
       "      <th>4</th>\n",
       "      <td>5</td>\n",
       "      <td>0</td>\n",
       "      <td>3</td>\n",
       "      <td>Allen, Mr. William Henry</td>\n",
       "      <td>male</td>\n",
       "      <td>35.0</td>\n",
       "      <td>0</td>\n",
       "      <td>0</td>\n",
       "      <td>373450</td>\n",
       "      <td>8.0500</td>\n",
       "      <td>NaN</td>\n",
       "      <td>S</td>\n",
       "    </tr>\n",
       "  </tbody>\n",
       "</table>\n",
       "</div>"
      ],
      "text/plain": [
       "   PassengerId  Survived  Pclass  \\\n",
       "0            1         0       3   \n",
       "1            2         1       1   \n",
       "2            3         1       3   \n",
       "3            4         1       1   \n",
       "4            5         0       3   \n",
       "\n",
       "                                                Name     Sex   Age  SibSp  \\\n",
       "0                            Braund, Mr. Owen Harris    male  22.0      1   \n",
       "1  Cumings, Mrs. John Bradley (Florence Briggs Th...  female  38.0      1   \n",
       "2                             Heikkinen, Miss. Laina  female  26.0      0   \n",
       "3       Futrelle, Mrs. Jacques Heath (Lily May Peel)  female  35.0      1   \n",
       "4                           Allen, Mr. William Henry    male  35.0      0   \n",
       "\n",
       "   Parch            Ticket     Fare Cabin Embarked  \n",
       "0      0         A/5 21171   7.2500   NaN        S  \n",
       "1      0          PC 17599  71.2833   C85        C  \n",
       "2      0  STON/O2. 3101282   7.9250   NaN        S  \n",
       "3      0            113803  53.1000  C123        S  \n",
       "4      0            373450   8.0500   NaN        S  "
      ]
     },
     "execution_count": 2,
     "metadata": {},
     "output_type": "execute_result"
    }
   ],
   "source": [
    "#bibliotecas utilizadas na realização da análise\n",
    "\n",
    "import pandas as pd\n",
    "import matplotlib.pyplot as plt\n",
    "import numpy as np\n",
    "import seaborn as sns\n",
    "\n",
    "#Verificando o conteúdo do arquivo, buscando as 5 primeiras linhas\n",
    "df = pd.read_csv('titanic-data-6.csv')\n",
    "df.head()\n"
   ]
  },
  {
   "cell_type": "code",
   "execution_count": 3,
   "metadata": {},
   "outputs": [
    {
     "name": "stdout",
     "output_type": "stream",
     "text": [
      "O arquivo possui 891 linhas e 12 colunas.\n"
     ]
    }
   ],
   "source": [
    "#Identificando o tamanho do arquivo em colunas e linhas\n",
    "print('O arquivo possui {0} linhas e {1} colunas.'.format(\n",
    "df.shape[0], df.shape[1]))"
   ]
  },
  {
   "cell_type": "code",
   "execution_count": 4,
   "metadata": {},
   "outputs": [
    {
     "data": {
      "text/plain": [
       "PassengerId    False\n",
       "Survived       False\n",
       "Pclass         False\n",
       "Name           False\n",
       "Sex            False\n",
       "Age             True\n",
       "SibSp          False\n",
       "Parch          False\n",
       "Ticket         False\n",
       "Fare           False\n",
       "Cabin           True\n",
       "Embarked        True\n",
       "dtype: bool"
      ]
     },
     "execution_count": 4,
     "metadata": {},
     "output_type": "execute_result"
    }
   ],
   "source": [
    "#Validando se tem valor faltante\n",
    "df.isnull().any()"
   ]
  },
  {
   "cell_type": "code",
   "execution_count": 5,
   "metadata": {},
   "outputs": [
    {
     "name": "stdout",
     "output_type": "stream",
     "text": [
      "Este arquivo possui 0 linhas duplicadas\n"
     ]
    }
   ],
   "source": [
    "#Validando se tem linha duplicada\n",
    "print('Este arquivo possui {} linhas duplicadas'. format(df.duplicated().sum()))\n"
   ]
  },
  {
   "cell_type": "code",
   "execution_count": 6,
   "metadata": {},
   "outputs": [
    {
     "data": {
      "text/plain": [
       "PassengerId    891\n",
       "Survived         2\n",
       "Pclass           3\n",
       "Name           891\n",
       "Sex              2\n",
       "Age             88\n",
       "SibSp            7\n",
       "Parch            7\n",
       "Ticket         681\n",
       "Fare           248\n",
       "Cabin          147\n",
       "Embarked         3\n",
       "dtype: int64"
      ]
     },
     "execution_count": 6,
     "metadata": {},
     "output_type": "execute_result"
    }
   ],
   "source": [
    "#Validando a quantidade de valores únicos por coluna\n",
    "df.nunique()"
   ]
  },
  {
   "cell_type": "code",
   "execution_count": 7,
   "metadata": {},
   "outputs": [],
   "source": [
    "#Substituindo os nomes das colunas para melhorar a visualização\n",
    "df.rename(columns={'Pclass': 'Classe', 'Name': 'Nome', 'Sex':'Sexo', \n",
    "                   'Age':'Idade', 'SibSp':'Rel_Familiar', 'Parch':'Rel_Familiar2', \n",
    "                   'Fare':'Tarifa', 'Cabin':'Numero_Cabine', \n",
    "                   'Embarked':'Porto_de_Embarque'}, inplace=True)"
   ]
  },
  {
   "cell_type": "code",
   "execution_count": 8,
   "metadata": {},
   "outputs": [
    {
     "data": {
      "text/html": [
       "<div>\n",
       "<style scoped>\n",
       "    .dataframe tbody tr th:only-of-type {\n",
       "        vertical-align: middle;\n",
       "    }\n",
       "\n",
       "    .dataframe tbody tr th {\n",
       "        vertical-align: top;\n",
       "    }\n",
       "\n",
       "    .dataframe thead th {\n",
       "        text-align: right;\n",
       "    }\n",
       "</style>\n",
       "<table border=\"1\" class=\"dataframe\">\n",
       "  <thead>\n",
       "    <tr style=\"text-align: right;\">\n",
       "      <th></th>\n",
       "      <th>PassengerId</th>\n",
       "      <th>Survived</th>\n",
       "      <th>Classe</th>\n",
       "      <th>Nome</th>\n",
       "      <th>Sexo</th>\n",
       "      <th>Idade</th>\n",
       "      <th>Rel_Familiar</th>\n",
       "      <th>Rel_Familiar2</th>\n",
       "      <th>Ticket</th>\n",
       "      <th>Tarifa</th>\n",
       "      <th>Numero_Cabine</th>\n",
       "      <th>Porto_de_Embarque</th>\n",
       "    </tr>\n",
       "  </thead>\n",
       "  <tbody>\n",
       "  </tbody>\n",
       "</table>\n",
       "</div>"
      ],
      "text/plain": [
       "Empty DataFrame\n",
       "Columns: [PassengerId, Survived, Classe, Nome, Sexo, Idade, Rel_Familiar, Rel_Familiar2, Ticket, Tarifa, Numero_Cabine, Porto_de_Embarque]\n",
       "Index: []"
      ]
     },
     "execution_count": 8,
     "metadata": {},
     "output_type": "execute_result"
    }
   ],
   "source": [
    "#Validando as substituções dos nomes das colunas\n",
    "df.head(0)"
   ]
  },
  {
   "cell_type": "code",
   "execution_count": 9,
   "metadata": {},
   "outputs": [
    {
     "data": {
      "text/plain": [
       "PassengerId            int64\n",
       "Survived               int64\n",
       "Classe                 int64\n",
       "Nome                  object\n",
       "Sexo                  object\n",
       "Idade                float64\n",
       "Rel_Familiar           int64\n",
       "Rel_Familiar2          int64\n",
       "Ticket                object\n",
       "Tarifa               float64\n",
       "Numero_Cabine         object\n",
       "Porto_de_Embarque     object\n",
       "dtype: object"
      ]
     },
     "execution_count": 9,
     "metadata": {},
     "output_type": "execute_result"
    }
   ],
   "source": [
    "# Validando o tipo de dado de cada coluna\n",
    "df.dtypes"
   ]
  },
  {
   "cell_type": "code",
   "execution_count": 10,
   "metadata": {},
   "outputs": [
    {
     "name": "stdout",
     "output_type": "stream",
     "text": [
      "<class 'pandas.core.frame.DataFrame'>\n",
      "RangeIndex: 891 entries, 0 to 890\n",
      "Data columns (total 12 columns):\n",
      "PassengerId          891 non-null int64\n",
      "Survived             891 non-null int64\n",
      "Classe               891 non-null int64\n",
      "Nome                 891 non-null object\n",
      "Sexo                 891 non-null object\n",
      "Idade                714 non-null float64\n",
      "Rel_Familiar         891 non-null int64\n",
      "Rel_Familiar2        891 non-null int64\n",
      "Ticket               891 non-null object\n",
      "Tarifa               891 non-null float64\n",
      "Numero_Cabine        204 non-null object\n",
      "Porto_de_Embarque    889 non-null object\n",
      "dtypes: float64(2), int64(5), object(5)\n",
      "memory usage: 83.6+ KB\n"
     ]
    }
   ],
   "source": [
    "#Validando se as colunas possuem itens faltantes\n",
    "df.info()"
   ]
  },
  {
   "cell_type": "code",
   "execution_count": 11,
   "metadata": {},
   "outputs": [
    {
     "name": "stdout",
     "output_type": "stream",
     "text": [
      "<class 'pandas.core.frame.DataFrame'>\n",
      "RangeIndex: 891 entries, 0 to 890\n",
      "Data columns (total 12 columns):\n",
      "PassengerId          891 non-null int64\n",
      "Survived             891 non-null int64\n",
      "Classe               891 non-null int64\n",
      "Nome                 891 non-null object\n",
      "Sexo                 891 non-null object\n",
      "Idade                891 non-null float64\n",
      "Rel_Familiar         891 non-null int64\n",
      "Rel_Familiar2        891 non-null int64\n",
      "Ticket               891 non-null object\n",
      "Tarifa               891 non-null float64\n",
      "Numero_Cabine        204 non-null object\n",
      "Porto_de_Embarque    889 non-null object\n",
      "dtypes: float64(2), int64(5), object(5)\n",
      "memory usage: 83.6+ KB\n"
     ]
    }
   ],
   "source": [
    "#Na coluna Idade que possui dados faltantes, apliquei a média\n",
    "#Em seguida validei se o ajuste foi concluído\n",
    "mean = df['Idade'].mean()\n",
    "df['Idade'].fillna(mean,inplace=True)\n",
    "df.info()"
   ]
  },
  {
   "cell_type": "code",
   "execution_count": 12,
   "metadata": {},
   "outputs": [
    {
     "name": "stdout",
     "output_type": "stream",
     "text": [
      "<class 'pandas.core.frame.DataFrame'>\n",
      "RangeIndex: 891 entries, 0 to 890\n",
      "Data columns (total 12 columns):\n",
      "PassengerId          891 non-null int64\n",
      "Survived             891 non-null int64\n",
      "Classe               891 non-null int64\n",
      "Nome                 891 non-null object\n",
      "Sexo                 891 non-null object\n",
      "Idade                891 non-null float64\n",
      "Rel_Familiar         891 non-null int64\n",
      "Rel_Familiar2        891 non-null int64\n",
      "Ticket               891 non-null object\n",
      "Tarifa               891 non-null float64\n",
      "Numero_Cabine        891 non-null object\n",
      "Porto_de_Embarque    891 non-null object\n",
      "dtypes: float64(2), int64(5), object(5)\n",
      "memory usage: 83.6+ KB\n"
     ]
    }
   ],
   "source": [
    "#Em seguida, apliquei as strings 'Não_Informado' para nos campos vazios numero da cabine e porto de embarque.\n",
    "df['Numero_Cabine'].fillna('Não_Informado', inplace=True)\n",
    "df['Porto_de_Embarque'].fillna('Não_Informado', inplace=True)\n",
    "df.info()"
   ]
  },
  {
   "cell_type": "code",
   "execution_count": 13,
   "metadata": {},
   "outputs": [
    {
     "data": {
      "text/plain": [
       "0      False\n",
       "1      False\n",
       "2      False\n",
       "3      False\n",
       "4      False\n",
       "5      False\n",
       "6      False\n",
       "7      False\n",
       "8      False\n",
       "9      False\n",
       "10     False\n",
       "11     False\n",
       "12     False\n",
       "13     False\n",
       "14     False\n",
       "15     False\n",
       "16     False\n",
       "17     False\n",
       "18     False\n",
       "19     False\n",
       "20     False\n",
       "21     False\n",
       "22     False\n",
       "23     False\n",
       "24     False\n",
       "25     False\n",
       "26     False\n",
       "27     False\n",
       "28     False\n",
       "29     False\n",
       "       ...  \n",
       "861    False\n",
       "862    False\n",
       "863    False\n",
       "864    False\n",
       "865    False\n",
       "866    False\n",
       "867    False\n",
       "868    False\n",
       "869    False\n",
       "870    False\n",
       "871    False\n",
       "872    False\n",
       "873    False\n",
       "874    False\n",
       "875    False\n",
       "876    False\n",
       "877    False\n",
       "878    False\n",
       "879    False\n",
       "880    False\n",
       "881    False\n",
       "882    False\n",
       "883    False\n",
       "884    False\n",
       "885    False\n",
       "886    False\n",
       "887    False\n",
       "888    False\n",
       "889    False\n",
       "890    False\n",
       "Length: 891, dtype: bool"
      ]
     },
     "execution_count": 13,
     "metadata": {},
     "output_type": "execute_result"
    }
   ],
   "source": [
    "#Validando se há linha duplicada e concluí que não havia, pois todos os valores retornaram False\n",
    "df.duplicated()"
   ]
  },
  {
   "cell_type": "code",
   "execution_count": 14,
   "metadata": {},
   "outputs": [
    {
     "data": {
      "text/html": [
       "<div>\n",
       "<style scoped>\n",
       "    .dataframe tbody tr th:only-of-type {\n",
       "        vertical-align: middle;\n",
       "    }\n",
       "\n",
       "    .dataframe tbody tr th {\n",
       "        vertical-align: top;\n",
       "    }\n",
       "\n",
       "    .dataframe thead th {\n",
       "        text-align: right;\n",
       "    }\n",
       "</style>\n",
       "<table border=\"1\" class=\"dataframe\">\n",
       "  <thead>\n",
       "    <tr style=\"text-align: right;\">\n",
       "      <th></th>\n",
       "      <th>PassengerId</th>\n",
       "      <th>Survived</th>\n",
       "      <th>Classe</th>\n",
       "      <th>Nome</th>\n",
       "      <th>Sexo</th>\n",
       "      <th>Idade</th>\n",
       "      <th>Rel_Familiar</th>\n",
       "      <th>Rel_Familiar2</th>\n",
       "      <th>Ticket</th>\n",
       "      <th>Tarifa</th>\n",
       "      <th>Numero_Cabine</th>\n",
       "      <th>Porto_de_Embarque</th>\n",
       "    </tr>\n",
       "  </thead>\n",
       "  <tbody>\n",
       "    <tr>\n",
       "      <th>0</th>\n",
       "      <td>1</td>\n",
       "      <td>0</td>\n",
       "      <td>3</td>\n",
       "      <td>Braund, Mr. Owen Harris</td>\n",
       "      <td>male</td>\n",
       "      <td>22.0</td>\n",
       "      <td>1</td>\n",
       "      <td>0</td>\n",
       "      <td>A/5 21171</td>\n",
       "      <td>7.2500</td>\n",
       "      <td>Não_Informado</td>\n",
       "      <td>S</td>\n",
       "    </tr>\n",
       "    <tr>\n",
       "      <th>1</th>\n",
       "      <td>2</td>\n",
       "      <td>1</td>\n",
       "      <td>1</td>\n",
       "      <td>Cumings, Mrs. John Bradley (Florence Briggs Th...</td>\n",
       "      <td>female</td>\n",
       "      <td>38.0</td>\n",
       "      <td>1</td>\n",
       "      <td>0</td>\n",
       "      <td>PC 17599</td>\n",
       "      <td>71.2833</td>\n",
       "      <td>C85</td>\n",
       "      <td>C</td>\n",
       "    </tr>\n",
       "    <tr>\n",
       "      <th>2</th>\n",
       "      <td>3</td>\n",
       "      <td>1</td>\n",
       "      <td>3</td>\n",
       "      <td>Heikkinen, Miss. Laina</td>\n",
       "      <td>female</td>\n",
       "      <td>26.0</td>\n",
       "      <td>0</td>\n",
       "      <td>0</td>\n",
       "      <td>STON/O2. 3101282</td>\n",
       "      <td>7.9250</td>\n",
       "      <td>Não_Informado</td>\n",
       "      <td>S</td>\n",
       "    </tr>\n",
       "    <tr>\n",
       "      <th>3</th>\n",
       "      <td>4</td>\n",
       "      <td>1</td>\n",
       "      <td>1</td>\n",
       "      <td>Futrelle, Mrs. Jacques Heath (Lily May Peel)</td>\n",
       "      <td>female</td>\n",
       "      <td>35.0</td>\n",
       "      <td>1</td>\n",
       "      <td>0</td>\n",
       "      <td>113803</td>\n",
       "      <td>53.1000</td>\n",
       "      <td>C123</td>\n",
       "      <td>S</td>\n",
       "    </tr>\n",
       "    <tr>\n",
       "      <th>4</th>\n",
       "      <td>5</td>\n",
       "      <td>0</td>\n",
       "      <td>3</td>\n",
       "      <td>Allen, Mr. William Henry</td>\n",
       "      <td>male</td>\n",
       "      <td>35.0</td>\n",
       "      <td>0</td>\n",
       "      <td>0</td>\n",
       "      <td>373450</td>\n",
       "      <td>8.0500</td>\n",
       "      <td>Não_Informado</td>\n",
       "      <td>S</td>\n",
       "    </tr>\n",
       "  </tbody>\n",
       "</table>\n",
       "</div>"
      ],
      "text/plain": [
       "   PassengerId  Survived  Classe  \\\n",
       "0            1         0       3   \n",
       "1            2         1       1   \n",
       "2            3         1       3   \n",
       "3            4         1       1   \n",
       "4            5         0       3   \n",
       "\n",
       "                                                Nome    Sexo  Idade  \\\n",
       "0                            Braund, Mr. Owen Harris    male   22.0   \n",
       "1  Cumings, Mrs. John Bradley (Florence Briggs Th...  female   38.0   \n",
       "2                             Heikkinen, Miss. Laina  female   26.0   \n",
       "3       Futrelle, Mrs. Jacques Heath (Lily May Peel)  female   35.0   \n",
       "4                           Allen, Mr. William Henry    male   35.0   \n",
       "\n",
       "   Rel_Familiar  Rel_Familiar2            Ticket   Tarifa  Numero_Cabine  \\\n",
       "0             1              0         A/5 21171   7.2500  Não_Informado   \n",
       "1             1              0          PC 17599  71.2833            C85   \n",
       "2             0              0  STON/O2. 3101282   7.9250  Não_Informado   \n",
       "3             1              0            113803  53.1000           C123   \n",
       "4             0              0            373450   8.0500  Não_Informado   \n",
       "\n",
       "  Porto_de_Embarque  \n",
       "0                 S  \n",
       "1                 C  \n",
       "2                 S  \n",
       "3                 S  \n",
       "4                 S  "
      ]
     },
     "execution_count": 14,
     "metadata": {},
     "output_type": "execute_result"
    }
   ],
   "source": [
    "#Em seguida validei se os ajustes foram aplicados\n",
    "df.head()"
   ]
  },
  {
   "cell_type": "markdown",
   "metadata": {},
   "source": [
    "Abaixo está o conteúdo da análise elaborara para responder às perguntas citadas acima."
   ]
  },
  {
   "cell_type": "code",
   "execution_count": 15,
   "metadata": {},
   "outputs": [
    {
     "name": "stdout",
     "output_type": "stream",
     "text": [
      "Idade média:29.7, Mais novo:0.42, Mais Velho:80.0\n"
     ]
    }
   ],
   "source": [
    "#Calculando a média, a menor e a maior idade dos passageiros\n",
    "\n",
    "print('Idade média:{0:.1f}, Mais novo:{1}, Mais Velho:{2}'.format\n",
    "      (df['Idade'].mean(), df['Idade'].min(), df['Idade'].max()))"
   ]
  },
  {
   "cell_type": "code",
   "execution_count": 16,
   "metadata": {},
   "outputs": [
    {
     "name": "stdout",
     "output_type": "stream",
     "text": [
      "          PassengerId  Classe  Nome  Sexo  Idade  Rel_Familiar  Rel_Familiar2  \\\n",
      "Survived                                                                        \n",
      "0                 549     549   549   549    549           549            549   \n",
      "1                 342     342   342   342    342           342            342   \n",
      "\n",
      "          Ticket  Tarifa  Numero_Cabine  Porto_de_Embarque  \n",
      "Survived                                                    \n",
      "0            549     549            549                549  \n",
      "1            342     342            342                342  \n"
     ]
    }
   ],
   "source": [
    "# Qual a quantidade  e o percentual de passageiros da amostra sobreviveram?\n",
    "\n",
    "# Validando a amostra, percebi que apenas 38,4% dos passageiros e tripulantes sobreviveram.\n",
    "\n",
    "b = df.groupby('Survived').count()\n",
    "print(b)"
   ]
  },
  {
   "cell_type": "code",
   "execution_count": 17,
   "metadata": {},
   "outputs": [
    {
     "data": {
      "image/png": "[encoded data removed]",
      "text/plain": [
       "<Figure size 432x288 with 1 Axes>"
      ]
     },
     "metadata": {
      "needs_background": "light"
     },
     "output_type": "display_data"
    }
   ],
   "source": [
    "#O gráfico abaixo apresenta visualmente a quantidade de passageiros separados por 'Classe'\n",
    "#Identifiquei que a Classe 3 possui praticamente o valor das classes 1 e 2 somadas.\n",
    "#Assim como, a diferença entre quantidade de passageiros entre a classe 1 e 2 é irrisória.\n",
    "\n",
    "df['Classe'].value_counts().plot(kind='bar', title='Classe');\n"
   ]
  },
  {
   "cell_type": "code",
   "execution_count": 18,
   "metadata": {
    "scrolled": true
   },
   "outputs": [
    {
     "name": "stdout",
     "output_type": "stream",
     "text": [
      "        PassengerId  Survived  Nome  Sexo  Idade  Rel_Familiar  Rel_Familiar2  \\\n",
      "Classe                                                                          \n",
      "1               216       216   216   216    216           216            216   \n",
      "2               184       184   184   184    184           184            184   \n",
      "3               491       491   491   491    491           491            491   \n",
      "\n",
      "        Ticket  Tarifa  Numero_Cabine  Porto_de_Embarque  \n",
      "Classe                                                    \n",
      "1          216     216            216                216  \n",
      "2          184     184            184                184  \n",
      "3          491     491            491                491  \n"
     ]
    }
   ],
   "source": [
    "# Abaixo analiso a quantidade de passageiros separados por Classe, visando entender se houve alguma distinção\n",
    "# em relação aos salvamentos.\n",
    "\n",
    "\n",
    "a = df.groupby('Classe').count()\n",
    "print(a)"
   ]
  },
  {
   "cell_type": "code",
   "execution_count": 29,
   "metadata": {},
   "outputs": [
    {
     "data": {
      "image/png": "[encoded data removed]",
      "text/plain": [
       "<Figure size 432x288 with 1 Axes>"
      ]
     },
     "metadata": {
      "needs_background": "light"
     },
     "output_type": "display_data"
    },
    {
     "data": {
      "image/png": "[encoded data removed]",
      "text/plain": [
       "<Figure size 432x288 with 1 Axes>"
      ]
     },
     "metadata": {
      "needs_background": "light"
     },
     "output_type": "display_data"
    }
   ],
   "source": [
    "# Nos gráficos abaixo é possível perceber que em número absoluto e em proporção tiveram mais mulheres sobreviventes\n",
    "# Assim como, no segundo gráfico, comparando sobreviventes por classe sociais, que nao houve distição entre classes.\n",
    "\n",
    "def graficos (x, y, t):\n",
    "    '''Define quais parametros serao necessários comparar criando gráficos com titulos'''\n",
    "    \n",
    "    table = pd.crosstab(df[x],df[y])\n",
    "    table.plot(kind='bar',width=0.5, color=['green','red'], title = t ,grid=False)\n",
    "    plt.xlabel('Descrição')\n",
    "    plt.ylabel('Quantidade')\n",
    "graficos('Sexo','Survived','Sexo dos Sobreviventes')\n",
    "graficos('Classe','Survived','Classe dos Sobreviventes')\n",
    "    \n",
    "    "
   ]
  },
  {
   "cell_type": "code",
   "execution_count": 20,
   "metadata": {},
   "outputs": [
    {
     "name": "stdout",
     "output_type": "stream",
     "text": [
      "        PassengerId  Survived  Classe  Nome  Idade  Rel_Familiar  \\\n",
      "Sexo                                                               \n",
      "female          314       314     314   314    314           314   \n",
      "male            577       577     577   577    577           577   \n",
      "\n",
      "        Rel_Familiar2  Ticket  Tarifa  Numero_Cabine  Porto_de_Embarque  \n",
      "Sexo                                                                     \n",
      "female            314     314     314            314                314  \n",
      "male              577     577     577            577                577  \n"
     ]
    }
   ],
   "source": [
    "# A tabela abaixo visa apresentar quantos passageiros de cada sexo possuem na amostra.\n",
    "# Identifiquei também que 64,8% dos passageiros eram do sexo masculino\n",
    "# E apenas 35.2% era do sexo feminino.\n",
    "\n",
    "c = df.groupby('Sexo').count()\n",
    "print(c)"
   ]
  },
  {
   "cell_type": "code",
   "execution_count": 31,
   "metadata": {},
   "outputs": [
    {
     "data": {
      "image/png": "[encoded data removed]",
      "text/plain": [
       "<Figure size 432x288 with 2 Axes>"
      ]
     },
     "metadata": {
      "needs_background": "light"
     },
     "output_type": "display_data"
    }
   ],
   "source": [
    "# Buscando outras correlações, fica claro que excluindo o sexo, os demais itens possuem correlações baixas\n",
    "# entretanto, visualizando as relações familiares descritas no dicionario dos dados, percebe-se que são os valores são mais relevantes\n",
    "# chegando ao indicador de 0.4, seguido por 0.3 da relação entre sobrevivencia X tarifa - que acredito ser por conta da \n",
    "# proporção.\n",
    "\n",
    "sns.heatmap(df.corr(), annot=True, fmt=\".1f\")\n",
    "plt.title('QUADRO DE CORRELAÇÃO ENTRE COLUNAS')\n",
    "plt.show()"
   ]
  },
  {
   "cell_type": "markdown",
   "metadata": {},
   "source": [
    "Conclusão:\n",
    "\n",
    "Com base na amostra disponibilizada, que representa 68% do total real de passageiros e tripulantes do navio Titanic, podemos concluir que trata-se de uma amostra considerável e que permite concluir fatores com pouco nível de risco. Além disso, foi necessário efetuar alguns ajustes na base para realizar uma análise mais concisa.\n",
    "\n",
    "Os principais fatores ajustados na planilha da amostra foram:\n",
    "    1. Aplicação da média de idade nas linhas faltantes, visando reduzir a discrepância entre as idades;\n",
    "    2. Aplicação da string 'não_informado' nas linhas faltantes dos campos 'Porto de Embarque' e 'Cabine', que foram refutados nesta análise.\n",
    "    \n",
    "\n",
    "Para a análises efetuada, foi possível perceber que a classe 3 foi a que teve maior quantidade de passageiros no total, sendo praticamente a soma das classes 1 e 2, sendo 891 passageiros e tripulantes na amostra total.\n",
    "\n",
    "Da amostra total, visualizamos que:\n",
    "    64,8% de homens e 35,2% de mulheres de pessoas;\n",
    "    38,4% de sobreviventes, sendo as mulheres em sua grande maioria;\n",
    "    a classe não possui relação com os sobreviventes.\n",
    "\n",
    "Com base nesta análise, percebemos que o código Maritimo que diz que deve-se salvar mulheres e crianças primeiro, foi cumprido parcialmente, pois seria necessário análisar a amostra por idade para ser totalmente cumprido.\n",
    "\n",
    "    \n",
    "\n",
    "\n",
    "    "
   ]
  }
 ],
 "metadata": {
  "kernelspec": {
   "display_name": "Python 3",
   "language": "python",
   "name": "python3"
  },
  "language_info": {
   "codemirror_mode": {
    "name": "ipython",
    "version": 3
   },
   "file_extension": ".py",
   "mimetype": "text/x-python",
   "name": "python",
   "nbconvert_exporter": "python",
   "pygments_lexer": "ipython3",
   "version": "3.6.7"
  }
 },
 "nbformat": 4,
 "nbformat_minor": 2
}
